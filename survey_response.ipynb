{
 "cells": [
  {
   "cell_type": "code",
   "execution_count": 1,
   "metadata": {},
   "outputs": [
    {
     "name": "stderr",
     "output_type": "stream",
     "text": [
      "/var/folders/0t/rs4xlk9945xdd3cxy6yc9j340000gq/T/ipykernel_10754/3913289642.py:9: FutureWarning: Passing a negative integer is deprecated in version 1.0 and will not be supported in future version. Instead, use None to not limit the column width.\n",
      "  pd.set_option('display.max_colwidth', -1)\n"
     ]
    }
   ],
   "source": [
    "import pandas as pd\n",
    "import re\n",
    "import numpy as np\n",
    "import matplotlib.pyplot as plt\n",
    "import seaborn as sns\n",
    "from IPython.core.pylabtools import figsize\n",
    "sns.set_theme(style=\"darkgrid\")\n",
    "figsize(10, 6)\n",
    "pd.set_option('display.max_colwidth', -1)\n"
   ]
  },
  {
   "cell_type": "code",
   "execution_count": 13,
   "metadata": {},
   "outputs": [],
   "source": [
    "def get_indexes(raw):\n",
    "   if( not pd.isna(raw)):\n",
    "      highlights = re.findall(r'\\d+:', raw)\n",
    "      return list(map(lambda x: int(x.replace(':', '')) - 1, highlights))"
   ]
  },
  {
   "cell_type": "code",
   "execution_count": 14,
   "metadata": {},
   "outputs": [
    {
     "data": {
      "text/html": [
       "<div>\n",
       "<style scoped>\n",
       "    .dataframe tbody tr th:only-of-type {\n",
       "        vertical-align: middle;\n",
       "    }\n",
       "\n",
       "    .dataframe tbody tr th {\n",
       "        vertical-align: top;\n",
       "    }\n",
       "\n",
       "    .dataframe thead th {\n",
       "        text-align: right;\n",
       "    }\n",
       "</style>\n",
       "<table border=\"1\" class=\"dataframe\">\n",
       "  <thead>\n",
       "    <tr style=\"text-align: right;\">\n",
       "      <th></th>\n",
       "      <th>Status</th>\n",
       "      <th>Finished</th>\n",
       "      <th>RecordedDate</th>\n",
       "      <th>genre</th>\n",
       "      <th>hours_read</th>\n",
       "      <th>read_harry_potter</th>\n",
       "      <th>read_hero_academia</th>\n",
       "      <th>aphantasia_check</th>\n",
       "      <th>highlight_hp_high_1</th>\n",
       "      <th>highlight_hp_high_2</th>\n",
       "      <th>...</th>\n",
       "      <th>highlight_hero_low_2</th>\n",
       "      <th>rate_hero_low_1</th>\n",
       "      <th>rate_hero_low_2</th>\n",
       "      <th>rate_hero_low_3</th>\n",
       "      <th>rate_hero_low_4</th>\n",
       "      <th>rate_hero_low_5</th>\n",
       "      <th>Q61</th>\n",
       "      <th>Q62</th>\n",
       "      <th>Q63</th>\n",
       "      <th>Random ID</th>\n",
       "    </tr>\n",
       "  </thead>\n",
       "  <tbody>\n",
       "    <tr>\n",
       "      <th>2</th>\n",
       "      <td>Survey Preview</td>\n",
       "      <td>True</td>\n",
       "      <td>2022-04-09 18:05:25</td>\n",
       "      <td>sci-fi</td>\n",
       "      <td>2-4 hours</td>\n",
       "      <td>Yes</td>\n",
       "      <td>No</td>\n",
       "      <td>3</td>\n",
       "      <td>[2, 3, 10, 21, 33, 34]</td>\n",
       "      <td>[28]</td>\n",
       "      <td>...</td>\n",
       "      <td>[10]</td>\n",
       "      <td>Slightly agree</td>\n",
       "      <td>Slightly agree</td>\n",
       "      <td>Neutral</td>\n",
       "      <td>Slightly disagree</td>\n",
       "      <td>Slightly disagree</td>\n",
       "      <td>somewhat</td>\n",
       "      <td>yes</td>\n",
       "      <td>NaN</td>\n",
       "      <td>2718156370</td>\n",
       "    </tr>\n",
       "    <tr>\n",
       "      <th>3</th>\n",
       "      <td>IP Address</td>\n",
       "      <td>True</td>\n",
       "      <td>2022-04-11 14:12:22</td>\n",
       "      <td>Sci-fi short stories</td>\n",
       "      <td>0-1 hours</td>\n",
       "      <td>Yes</td>\n",
       "      <td>No</td>\n",
       "      <td>5</td>\n",
       "      <td>[1, 13, 21, 23, 33]</td>\n",
       "      <td>[28, 34]</td>\n",
       "      <td>...</td>\n",
       "      <td>[2, 7, 13]</td>\n",
       "      <td>Slightly disagree</td>\n",
       "      <td>Strongly disagree</td>\n",
       "      <td>Strongly agree</td>\n",
       "      <td>Strongly disagree</td>\n",
       "      <td>Strongly disagree</td>\n",
       "      <td>No</td>\n",
       "      <td>yes</td>\n",
       "      <td>Allow for sub-sentence highlighitng</td>\n",
       "      <td>1170260771</td>\n",
       "    </tr>\n",
       "  </tbody>\n",
       "</table>\n",
       "<p>2 rows × 40 columns</p>\n",
       "</div>"
      ],
      "text/plain": [
       "           Status Finished         RecordedDate                  genre  \\\n",
       "2  Survey Preview  True     2022-04-09 18:05:25  sci-fi                  \n",
       "3  IP Address      True     2022-04-11 14:12:22  Sci-fi short stories    \n",
       "\n",
       "  hours_read read_harry_potter read_hero_academia aphantasia_check  \\\n",
       "2  2-4 hours  Yes               No                 3                 \n",
       "3  0-1 hours  Yes               No                 5                 \n",
       "\n",
       "      highlight_hp_high_1 highlight_hp_high_2  ... highlight_hero_low_2  \\\n",
       "2  [2, 3, 10, 21, 33, 34]  [28]                ...  [10]                  \n",
       "3  [1, 13, 21, 23, 33]     [28, 34]            ...  [2, 7, 13]            \n",
       "\n",
       "     rate_hero_low_1    rate_hero_low_2 rate_hero_low_3    rate_hero_low_4  \\\n",
       "2  Slightly agree     Slightly agree     Neutral         Slightly disagree   \n",
       "3  Slightly disagree  Strongly disagree  Strongly agree  Strongly disagree   \n",
       "\n",
       "     rate_hero_low_5       Q61  Q62                                   Q63  \\\n",
       "2  Slightly disagree  somewhat  yes  NaN                                    \n",
       "3  Strongly disagree  No        yes  Allow for sub-sentence highlighitng    \n",
       "\n",
       "    Random ID  \n",
       "2  2718156370  \n",
       "3  1170260771  \n",
       "\n",
       "[2 rows x 40 columns]"
      ]
     },
     "execution_count": 14,
     "metadata": {},
     "output_type": "execute_result"
    }
   ],
   "source": [
    "data = pd.read_csv('survey_responses.csv')\n",
    "data = data.drop(['StartDate', 'ResponseId', 'EndDate', 'IPAddress', 'Progress', 'Duration (in seconds)', 'RecipientLastName', 'RecipientFirstName', 'RecipientEmail', 'ExternalReference', 'LocationLatitude', 'LocationLongitude', 'DistributionChannel', 'Q_RecaptchaScore', 'UserLanguage'], axis=1)[data['Finished'] == 'True']\n",
    "data['highlight_hp_high_1'] = data['highlight_hp_high_1'].map(get_indexes)\n",
    "data['highlight_hp_high_2'] = data['highlight_hp_high_2'].map(get_indexes)\n",
    "data['highlight_hp_low_1'] = data['highlight_hp_low_1'].map(get_indexes)\n",
    "data['highlight_hp_low_2'] = data['highlight_hp_low_2'].map(get_indexes)\n",
    "data['highlight_hero_high_1'] = data['highlight_hero_high_1'].map(get_indexes)\n",
    "data['highlight_hero_high_2'] = data['highlight_hero_high_2'].map(get_indexes)\n",
    "data['highlight_hero_low_1'] = data['highlight_hero_low_1'].map(get_indexes)\n",
    "data['highlight_hero_low_2'] = data['highlight_hero_low_2'].map(get_indexes)\n",
    "data.head()"
   ]
  },
  {
   "cell_type": "code",
   "execution_count": null,
   "metadata": {},
   "outputs": [],
   "source": [
    "hp_high_sentences = list(open('hp_high.txt', 'r').read().split('\\n'))\n",
    "hp_low_sentences = list(open('hp_low.txt', 'r').read().split('\\n'))\n",
    "hero_high_sentences = list(open('hero_high.txt', 'r').read().split('\\n'))\n",
    "hero_low_sentences = list(open('hero_low.txt', 'r').read().split('\\n'))"
   ]
  },
  {
   "cell_type": "code",
   "execution_count": 15,
   "metadata": {},
   "outputs": [],
   "source": [
    "def group_highlights(sent, highlights):\n",
    "   highlight_array = np.zeros(len(sent) + 1)\n",
    "   for x in highlights:\n",
    "      highlight_array[x] += 1\n",
    "   return highlight_array"
   ]
  },
  {
   "cell_type": "code",
   "execution_count": 26,
   "metadata": {},
   "outputs": [],
   "source": [
    "def get_highlight_text(sent, bool_array):\n",
    "   return [sent[i] for i in np.where(bool_array)[0]]"
   ]
  },
  {
   "cell_type": "code",
   "execution_count": 33,
   "metadata": {},
   "outputs": [],
   "source": [
    "def show_highlight_results(storyName, incOrDec, sentences):\n",
    "   column = f\"highlight_{storyName}_{incOrDec}\"\n",
    "   x = np.linspace(0, 35, 36)\n",
    "   y = group_highlights(sentences, data[column])\n",
    "   print(len(y), len(x))\n",
    "   plt.scatter(x, y)\n",
    "   plt.xlabel(\"Sentences\")\n",
    "   plt.ylabel(\"Highlight Count\")\n",
    "   plt.title(f\"{'Positive' if(incOrDec == 1) else 'Negative'} Highlights for {storyName}\")\n",
    "\n",
    "   plt.show()\n",
    "   return ( get_highlight_text(sentences, y), y)"
   ]
  },
  {
   "cell_type": "code",
   "execution_count": 36,
   "metadata": {},
   "outputs": [
    {
     "name": "stdout",
     "output_type": "stream",
     "text": [
      "36 36\n"
     ]
    },
    {
     "data": {
      "image/png": "[encoded data removed]",
      "text/plain": [
       "<Figure size 720x432 with 1 Axes>"
      ]
     },
     "metadata": {},
     "output_type": "display_data"
    },
    {
     "name": "stdout",
     "output_type": "stream",
     "text": [
      "['The Veil, that is.', 'The one that Sirius had fallen behind.', \"The last time he'd dreamed about the Department of Mysteries, Sirius had died.\", 'But then, so were so many other people, good people, who should not have died.', \"Hell, even Crabbe didn't deserve to die then.\", 'He was lying on a floor, covered by a poor excuse for a blanket, and someone appeared to be attempting to break the door down.', 'Dudley? Where had the Veil sent him?', 'SMASH! The door flew clean off its hinges and landed on the floor with a thunderous crash.', 'Hagrid stood in the doorway, looking very impressive.'] [0. 1. 1. 1. 0. 0. 0. 0. 0. 0. 1. 0. 0. 1. 0. 0. 0. 0. 0. 0. 0. 2. 0. 1.\n",
      " 0. 0. 0. 0. 0. 0. 0. 0. 0. 2. 1. 0.]\n"
     ]
    }
   ],
   "source": [
    "sentences, counts = show_highlight_results('hp_high', 1, hp_high_sentences)\n",
    "print(sentences, counts)"
   ]
  },
  {
   "cell_type": "code",
   "execution_count": 4,
   "metadata": {},
   "outputs": [],
   "source": [
    "questions = pd.read_csv('survey_responses.csv')[0:1]"
   ]
  },
  {
   "cell_type": "code",
   "execution_count": 5,
   "metadata": {},
   "outputs": [],
   "source": [
    "scale_questions = ['emotional_affect', 'forgetting_surroundings', 'distracted', 'characters_alive', 'mental_imagery']"
   ]
  }
 ],
 "metadata": {
  "interpreter": {
   "hash": "0dcd7942b24e3938562672c479f681f1e593aef8a57e7579601c8b6be77f11f2"
  },
  "kernelspec": {
   "display_name": "Python 3.9.6 ('base')",
   "language": "python",
   "name": "python3"
  },
  "language_info": {
   "codemirror_mode": {
    "name": "ipython",
    "version": 3
   },
   "file_extension": ".py",
   "mimetype": "text/x-python",
   "name": "python",
   "nbconvert_exporter": "python",
   "pygments_lexer": "ipython3",
   "version": "3.9.6"
  },
  "orig_nbformat": 4
 },
 "nbformat": 4,
 "nbformat_minor": 2
}
