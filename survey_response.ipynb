{
 "cells": [
  {
   "cell_type": "code",
   "execution_count": 1,
   "metadata": {},
   "outputs": [
    {
     "name": "stderr",
     "output_type": "stream",
     "text": [
      "/var/folders/0t/rs4xlk9945xdd3cxy6yc9j340000gq/T/ipykernel_37521/3913289642.py:9: FutureWarning: Passing a negative integer is deprecated in version 1.0 and will not be supported in future version. Instead, use None to not limit the column width.\n",
      "  pd.set_option('display.max_colwidth', -1)\n"
     ]
    }
   ],
   "source": [
    "import pandas as pd\n",
    "import re\n",
    "import numpy as np\n",
    "import matplotlib.pyplot as plt\n",
    "import seaborn as sns\n",
    "from IPython.core.pylabtools import figsize\n",
    "sns.set_theme(style=\"darkgrid\")\n",
    "figsize(10, 6)\n",
    "pd.set_option('display.max_colwidth', -1)\n"
   ]
  },
  {
   "cell_type": "code",
   "execution_count": 56,
   "metadata": {},
   "outputs": [],
   "source": [
    "def get_indexes(raw):\n",
    "   if( not pd.isna(raw)):\n",
    "      highlights = re.findall(r'\\d+:', raw)\n",
    "      return list(map(lambda x: int(x.replace(':', '')) - 1, highlights))"
   ]
  },
  {
   "cell_type": "code",
   "execution_count": 105,
   "metadata": {},
   "outputs": [
    {
     "data": {
      "text/html": [
       "<div>\n",
       "<style scoped>\n",
       "    .dataframe tbody tr th:only-of-type {\n",
       "        vertical-align: middle;\n",
       "    }\n",
       "\n",
       "    .dataframe tbody tr th {\n",
       "        vertical-align: top;\n",
       "    }\n",
       "\n",
       "    .dataframe thead th {\n",
       "        text-align: right;\n",
       "    }\n",
       "</style>\n",
       "<table border=\"1\" class=\"dataframe\">\n",
       "  <thead>\n",
       "    <tr style=\"text-align: right;\">\n",
       "      <th></th>\n",
       "      <th>Status</th>\n",
       "      <th>Finished</th>\n",
       "      <th>RecordedDate</th>\n",
       "      <th>genre</th>\n",
       "      <th>hours_read</th>\n",
       "      <th>read_harry_potter</th>\n",
       "      <th>read_hero_academia</th>\n",
       "      <th>aphantasia_check</th>\n",
       "      <th>highlight_hp_high_1</th>\n",
       "      <th>highlight_hp_high_2</th>\n",
       "      <th>...</th>\n",
       "      <th>highlight_hero_low_2</th>\n",
       "      <th>rate_hero_low_1</th>\n",
       "      <th>rate_hero_low_2</th>\n",
       "      <th>rate_hero_low_3</th>\n",
       "      <th>rate_hero_low_4</th>\n",
       "      <th>rate_hero_low_5</th>\n",
       "      <th>Q61</th>\n",
       "      <th>Q62</th>\n",
       "      <th>Q63</th>\n",
       "      <th>Random ID</th>\n",
       "    </tr>\n",
       "  </thead>\n",
       "  <tbody>\n",
       "    <tr>\n",
       "      <th>1</th>\n",
       "      <td>Survey Preview</td>\n",
       "      <td>True</td>\n",
       "      <td>2022-04-09 18:05:25</td>\n",
       "      <td>sci-fi</td>\n",
       "      <td>2-4 hours</td>\n",
       "      <td>Yes</td>\n",
       "      <td>No</td>\n",
       "      <td>3</td>\n",
       "      <td>[2, 3, 10, 21, 33, 34]</td>\n",
       "      <td>[28]</td>\n",
       "      <td>...</td>\n",
       "      <td>[10]</td>\n",
       "      <td>Slightly agree</td>\n",
       "      <td>Slightly agree</td>\n",
       "      <td>Neutral</td>\n",
       "      <td>Slightly disagree</td>\n",
       "      <td>Slightly disagree</td>\n",
       "      <td>somewhat</td>\n",
       "      <td>yes</td>\n",
       "      <td>NaN</td>\n",
       "      <td>2718156370</td>\n",
       "    </tr>\n",
       "    <tr>\n",
       "      <th>2</th>\n",
       "      <td>IP Address</td>\n",
       "      <td>True</td>\n",
       "      <td>2022-04-11 14:12:22</td>\n",
       "      <td>Sci-fi short stories</td>\n",
       "      <td>0-1 hours</td>\n",
       "      <td>Yes</td>\n",
       "      <td>No</td>\n",
       "      <td>5</td>\n",
       "      <td>[1, 13, 21, 23, 33]</td>\n",
       "      <td>[28, 34]</td>\n",
       "      <td>...</td>\n",
       "      <td>[2, 7, 13]</td>\n",
       "      <td>Slightly disagree</td>\n",
       "      <td>Strongly disagree</td>\n",
       "      <td>Strongly agree</td>\n",
       "      <td>Strongly disagree</td>\n",
       "      <td>Strongly disagree</td>\n",
       "      <td>No</td>\n",
       "      <td>yes</td>\n",
       "      <td>Allow for sub-sentence highlighitng</td>\n",
       "      <td>1170260771</td>\n",
       "    </tr>\n",
       "    <tr>\n",
       "      <th>3</th>\n",
       "      <td>IP Address</td>\n",
       "      <td>True</td>\n",
       "      <td>2022-04-15 15:50:12</td>\n",
       "      <td>sci fi</td>\n",
       "      <td>2-4 hours</td>\n",
       "      <td>Yes</td>\n",
       "      <td>No</td>\n",
       "      <td>5</td>\n",
       "      <td>[0, 11, 21, 26, 33, 34]</td>\n",
       "      <td>[2, 5, 6, 7, 17, 18, 30]</td>\n",
       "      <td>...</td>\n",
       "      <td>[1, 2, 7, 8, 15]</td>\n",
       "      <td>Slightly disagree</td>\n",
       "      <td>Slightly disagree</td>\n",
       "      <td>Strongly agree</td>\n",
       "      <td>Strongly disagree</td>\n",
       "      <td>Slightly disagree</td>\n",
       "      <td>It had a slight effect, but not a lot</td>\n",
       "      <td>Yes</td>\n",
       "      <td>NaN</td>\n",
       "      <td>5450760650</td>\n",
       "    </tr>\n",
       "  </tbody>\n",
       "</table>\n",
       "<p>3 rows × 40 columns</p>\n",
       "</div>"
      ],
      "text/plain": [
       "           Status Finished         RecordedDate                  genre  \\\n",
       "1  Survey Preview  True     2022-04-09 18:05:25  sci-fi                  \n",
       "2  IP Address      True     2022-04-11 14:12:22  Sci-fi short stories    \n",
       "3  IP Address      True     2022-04-15 15:50:12  sci fi                  \n",
       "\n",
       "  hours_read read_harry_potter read_hero_academia aphantasia_check  \\\n",
       "1  2-4 hours  Yes               No                 3                 \n",
       "2  0-1 hours  Yes               No                 5                 \n",
       "3  2-4 hours  Yes               No                 5                 \n",
       "\n",
       "       highlight_hp_high_1       highlight_hp_high_2  ...  \\\n",
       "1  [2, 3, 10, 21, 33, 34]   [28]                      ...   \n",
       "2  [1, 13, 21, 23, 33]      [28, 34]                  ...   \n",
       "3  [0, 11, 21, 26, 33, 34]  [2, 5, 6, 7, 17, 18, 30]  ...   \n",
       "\n",
       "  highlight_hero_low_2    rate_hero_low_1    rate_hero_low_2 rate_hero_low_3  \\\n",
       "1  [10]                 Slightly agree     Slightly agree     Neutral          \n",
       "2  [2, 7, 13]           Slightly disagree  Strongly disagree  Strongly agree   \n",
       "3  [1, 2, 7, 8, 15]     Slightly disagree  Slightly disagree  Strongly agree   \n",
       "\n",
       "     rate_hero_low_4    rate_hero_low_5  \\\n",
       "1  Slightly disagree  Slightly disagree   \n",
       "2  Strongly disagree  Strongly disagree   \n",
       "3  Strongly disagree  Slightly disagree   \n",
       "\n",
       "                                     Q61  Q62  \\\n",
       "1  somewhat                               yes   \n",
       "2  No                                     yes   \n",
       "3  It had a slight effect, but not a lot  Yes   \n",
       "\n",
       "                                    Q63   Random ID  \n",
       "1  NaN                                   2718156370  \n",
       "2  Allow for sub-sentence highlighitng   1170260771  \n",
       "3  NaN                                   5450760650  \n",
       "\n",
       "[3 rows x 40 columns]"
      ]
     },
     "execution_count": 105,
     "metadata": {},
     "output_type": "execute_result"
    }
   ],
   "source": [
    "data = pd.read_csv('survey_responses.csv')\n",
    "data = data.drop(['StartDate', 'ResponseId', 'EndDate', 'IPAddress', 'Progress', 'Duration (in seconds)', 'RecipientLastName', 'RecipientFirstName', 'RecipientEmail', 'ExternalReference', 'LocationLatitude', 'LocationLongitude', 'DistributionChannel', 'Q_RecaptchaScore', 'UserLanguage'], axis=1)[data['Finished'] == 'True']\n",
    "data['highlight_hp_high_1'] = data['highlight_hp_high_1'].map(get_indexes)\n",
    "data['highlight_hp_high_2'] = data['highlight_hp_high_2'].map(get_indexes)\n",
    "data['highlight_hp_low_1'] = data['highlight_hp_low_1'].map(get_indexes)\n",
    "data['highlight_hp_low_2'] = data['highlight_hp_low_2'].map(get_indexes)\n",
    "data['highlight_hero_high_1'] = data['highlight_hero_high_1'].map(get_indexes)\n",
    "data['highlight_hero_high_2'] = data['highlight_hero_high_2'].map(get_indexes)\n",
    "data['highlight_hero_low_1'] = data['highlight_hero_low_1'].map(get_indexes)\n",
    "data['highlight_hero_low_2'] = data['highlight_hero_low_2'].map(get_indexes)\n",
    "data.head()"
   ]
  },
  {
   "cell_type": "code",
   "execution_count": 112,
   "metadata": {},
   "outputs": [],
   "source": [
    "hp_high_sentences = list(open('hp_high.txt', 'r').read().split('\\n'))\n",
    "hp_low_sentences = list(open('hp_low.txt', 'r').read().split('\\n'))\n",
    "hero_high_sentences = list(open('hero_high.txt', 'r').read().split('\\n'))\n",
    "hero_low_sentences = list(open('hero_low.txt', 'r').read().split('\\n'))\n"
   ]
  },
  {
   "cell_type": "code",
   "execution_count": 113,
   "metadata": {},
   "outputs": [
    {
     "data": {
      "text/plain": [
       "[\"He'd been dreaming of it since the defeat of Voldemort.\",\n",
       " 'The Veil, that is.',\n",
       " 'The one that Sirius had fallen behind.',\n",
       " \"The last time he'd dreamed about the Department of Mysteries, Sirius had died.\",\n",
       " 'The world had also finally woken up to the truth about Voldemort, but the price had been too high for him to be grateful.',\n",
       " 'And once the truth was out, the attacks had gotten worse.',\n",
       " 'He wondered, briefly, why he was there.',\n",
       " 'Ginny was at home, she was pregnant, she needed him.',\n",
       " 'Yet he could not seem to stay away.',\n",
       " 'Voldemort was gone, true.',\n",
       " 'But then, so were so many other people, good people, who should not have died.',\n",
       " 'He counted the steps until he was standing right in front of where Sirius had fallen through.',\n",
       " 'Cedric. Sirius. Dumbledore. Hedwig. Moody. Dobby. Tonks father. Remus. Colin Creevy. Tonks. Snape. Fred.',\n",
       " \"Hell, even Crabbe didn't deserve to die then.\",\n",
       " 'There were more, many more, but none of them close to him.',\n",
       " 'They were close to somebody, though.',\n",
       " \"Maybe that was why he couldn't stay away.\",\n",
       " \"Why he couldn't look away.\",\n",
       " \"Why, even at that very moment, he couldn't walk away.\",\n",
       " '---',\n",
       " 'Harry awoke with a start.',\n",
       " 'He was lying on a floor, covered by a poor excuse for a blanket, and someone appeared to be attempting to break the door down.',\n",
       " '\"Where\\'s the cannon?\" Dudley asked.',\n",
       " 'Dudley? Where had the Veil sent him?',\n",
       " 'Could this be when Hagrid first told him about Hogwarts?',\n",
       " \"It must be, because he couldn't recall any other time where he and Dudley had been sleeping in what appeared to be a shack.\",\n",
       " 'There was a crash behind them and Uncle Vernon came skidding into the room, holding a rifle.',\n",
       " 'Harry snorted.',\n",
       " 'Like that would do any good against HAGRID.',\n",
       " 'His uncle didn\\'t seem to know that, though, and shouted \"Who\\'s there? I warn you-I\\'m armed!\"',\n",
       " 'Although it did occur to Harry that when people were trying to break in, it can generally be assumed that they are probably armed as well.',\n",
       " \"And as if they didn't know that a wizard had come for Harry.\",\n",
       " 'Who else COULD even get across in this weather, not to mention who else would even bother?',\n",
       " 'SMASH! The door flew clean off its hinges and landed on the floor with a thunderous crash.',\n",
       " 'Hagrid stood in the doorway, looking very impressive.']"
      ]
     },
     "execution_count": 113,
     "metadata": {},
     "output_type": "execute_result"
    }
   ],
   "source": [
    "hp_high_sentences"
   ]
  },
  {
   "cell_type": "code",
   "execution_count": 107,
   "metadata": {},
   "outputs": [],
   "source": [
    "def group_highlights(sent, highlights):\n",
    "   highlight_array = np.zeros(len(sent) + 1)\n",
    "   for x in highlights:\n",
    "      if(x != None):\n",
    "         highlight_array[x] += 1\n",
    "   return highlight_array"
   ]
  },
  {
   "cell_type": "code",
   "execution_count": 110,
   "metadata": {},
   "outputs": [],
   "source": [
    "def get_highlight_text(sent, bool_array):\n",
    "   return [sent[i] for i in np.where(bool_array)[0]]"
   ]
  },
  {
   "cell_type": "code",
   "execution_count": 108,
   "metadata": {},
   "outputs": [],
   "source": [
    "def show_highlight_results(storyName, incOrDec, sentences):\n",
    "   column = f\"highlight_{storyName}_{incOrDec}\"\n",
    "   sent_count = len(sentences)\n",
    "   x = np.linspace(0, sent_count, sent_count + 1)\n",
    "   y = group_highlights(sentences, data[column])\n",
    "   plt.scatter(x, y)\n",
    "   plt.xlabel(\"Sentences\")\n",
    "   plt.ylabel(\"Highlight Count\")\n",
    "   plt.title(f\"{'Positive' if(incOrDec == 1) else 'Negative'} Highlights for {storyName}\")\n",
    "\n",
    "   plt.show()\n",
    "   return ( get_highlight_text(sentences, y), y)"
   ]
  },
  {
   "cell_type": "code",
   "execution_count": 115,
   "metadata": {},
   "outputs": [
    {
     "name": "stdout",
     "output_type": "stream",
     "text": [
      "[2, 3, 10, 21, 33, 34]\n",
      "[1, 13, 21, 23, 33]\n",
      "[0, 11, 21, 26, 33, 34]\n"
     ]
    },
    {
     "data": {
      "image/png": "[encoded data removed]",
      "text/plain": [
       "<Figure size 720x432 with 1 Axes>"
      ]
     },
     "metadata": {},
     "output_type": "display_data"
    },
    {
     "name": "stdout",
     "output_type": "stream",
     "text": [
      "35 36\n",
      "[\"He'd been dreaming of it since the defeat of Voldemort.\", 'The Veil, that is.', 'The one that Sirius had fallen behind.', \"The last time he'd dreamed about the Department of Mysteries, Sirius had died.\", 'But then, so were so many other people, good people, who should not have died.', 'He counted the steps until he was standing right in front of where Sirius had fallen through.', \"Hell, even Crabbe didn't deserve to die then.\", 'He was lying on a floor, covered by a poor excuse for a blanket, and someone appeared to be attempting to break the door down.', 'Dudley? Where had the Veil sent him?', 'There was a crash behind them and Uncle Vernon came skidding into the room, holding a rifle.', 'SMASH! The door flew clean off its hinges and landed on the floor with a thunderous crash.', 'Hagrid stood in the doorway, looking very impressive.']\n"
     ]
    }
   ],
   "source": [
    "sentences, counts = show_highlight_results('hp_high', 1, hp_high_sentences)\n",
    "print(sentences)"
   ]
  },
  {
   "cell_type": "code",
   "execution_count": 4,
   "metadata": {},
   "outputs": [],
   "source": [
    "questions = pd.read_csv('survey_responses.csv')[0:1]"
   ]
  },
  {
   "cell_type": "code",
   "execution_count": 5,
   "metadata": {},
   "outputs": [],
   "source": [
    "scale_questions = ['emotional_affect', 'forgetting_surroundings', 'distracted', 'characters_alive', 'mental_imagery']"
   ]
  }
 ],
 "metadata": {
  "interpreter": {
   "hash": "0dcd7942b24e3938562672c479f681f1e593aef8a57e7579601c8b6be77f11f2"
  },
  "kernelspec": {
   "display_name": "Python 3.9.6 ('base')",
   "language": "python",
   "name": "python3"
  },
  "language_info": {
   "codemirror_mode": {
    "name": "ipython",
    "version": 3
   },
   "file_extension": ".py",
   "mimetype": "text/x-python",
   "name": "python",
   "nbconvert_exporter": "python",
   "pygments_lexer": "ipython3",
   "version": "3.9.6"
  },
  "orig_nbformat": 4
 },
 "nbformat": 4,
 "nbformat_minor": 2
}
